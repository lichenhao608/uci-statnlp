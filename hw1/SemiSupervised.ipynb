{
 "cells": [
  {
   "cell_type": "code",
   "execution_count": 1,
   "metadata": {},
   "outputs": [],
   "source": [
    "import numpy as np\n",
    "from scipy import sparse\n",
    "from sklearn import metrics\n",
    "from sklearn.linear_model import LogisticRegression\n",
    "import matplotlib.pyplot as plt\n",
    "import speech as hwutil\n",
    "import classify"
   ]
  },
  {
   "cell_type": "code",
   "execution_count": 2,
   "metadata": {},
   "outputs": [
    {
     "name": "stdout",
     "output_type": "stream",
     "text": [
      "Reading data\n",
      "-- train data\n",
      "train.tsv\n",
      "4370\n",
      "-- dev data\n",
      "dev.tsv\n",
      "414\n",
      "-- transforming data and labels\n"
     ]
    }
   ],
   "source": [
    "print(\"Reading data\")\n",
    "tarfname = \"data/speech.tar.gz\"\n",
    "speech = hwutil.read_files(tarfname)"
   ]
  },
  {
   "cell_type": "code",
   "execution_count": 3,
   "metadata": {},
   "outputs": [
    {
     "name": "stdout",
     "output_type": "stream",
     "text": [
      "Reading unlabeled data\n",
      "(43342, 7916)\n"
     ]
    }
   ],
   "source": [
    "print(\"Reading unlabeled data\")\n",
    "unlabeled = hwutil.read_unlabeled(tarfname, speech)"
   ]
  },
  {
   "cell_type": "markdown",
   "metadata": {},
   "source": [
    "## include all prediction and fixed iteration with subsample 20%"
   ]
  },
  {
   "cell_type": "code",
   "execution_count": 4,
   "metadata": {},
   "outputs": [],
   "source": [
    "def semi_all(data, unlabelx, loop=10):\n",
    "    train_x = data.trainX\n",
    "    train_y = data.trainy\n",
    "    N = unlabelx.shape[0]\n",
    "#     ind = np.random.choice(np.arange(N), size=N//5, replace=False)\n",
    "#     subx = unlabelx[ind]\n",
    "    train_acc = np.zeros(loop)\n",
    "    valid_acc = np.zeros(loop)\n",
    "    model = LogisticRegression(solver='liblinear')\n",
    "    prev = np.zeros(N)\n",
    "    \n",
    "    for i in range(loop):\n",
    "        print(f'{i}th iteration')\n",
    "        print('  training')\n",
    "        model.fit(train_x, train_y)\n",
    "        print('  accuracy')\n",
    "        train_acc[i] = classify.evaluate(speech.trainX, speech.trainy, model)\n",
    "        valid_acc[i] = classify.evaluate(speech.devX, speech.devy, model)\n",
    "        pred = model.predict(unlabelx)\n",
    "        dif = np.sum(pred != prev)\n",
    "        prev = pred\n",
    "        print(f' {dif} different')\n",
    "        print('  stack unlabeled')\n",
    "        train_x = sparse.vstack([train_x, unlabelx])\n",
    "        train_y = np.concatenate([train_y, pred])\n",
    "        if not i % 9:\n",
    "            print(f'{i}th iteration')\n",
    "    \n",
    "    return train_acc, valid_acc,  model"
   ]
  },
  {
   "cell_type": "code",
   "execution_count": 5,
   "metadata": {},
   "outputs": [
    {
     "name": "stdout",
     "output_type": "stream",
     "text": [
      "0th iteration\n",
      "  training\n",
      "  accuracy\n",
      "  Accuracy 0.9832951945080092\n",
      "  Accuracy 0.4082125603864734\n",
      " 43316 different\n",
      "  stack unlabeled\n",
      "0th iteration\n",
      "1th iteration\n",
      "  training\n",
      "  accuracy\n",
      "  Accuracy 0.8862700228832951\n",
      "  Accuracy 0.41304347826086957\n",
      " 1236 different\n",
      "  stack unlabeled\n",
      "2th iteration\n",
      "  training\n",
      "  accuracy\n",
      "  Accuracy 0.85720823798627\n",
      "  Accuracy 0.41545893719806765\n",
      " 73 different\n",
      "  stack unlabeled\n",
      "3th iteration\n",
      "  training\n",
      "  accuracy\n",
      "  Accuracy 0.84279176201373\n",
      "  Accuracy 0.4057971014492754\n",
      " 18 different\n",
      "  stack unlabeled\n",
      "4th iteration\n",
      "  training\n",
      "  accuracy\n",
      "  Accuracy 0.8338672768878719\n",
      "  Accuracy 0.39855072463768115\n",
      " 11 different\n",
      "  stack unlabeled\n",
      "5th iteration\n",
      "  training\n",
      "  accuracy\n",
      "  Accuracy 0.825629290617849\n",
      "  Accuracy 0.39855072463768115\n",
      " 11 different\n",
      "  stack unlabeled\n",
      "6th iteration\n",
      "  training\n",
      "  accuracy\n",
      "  Accuracy 0.820137299771167\n",
      "  Accuracy 0.40096618357487923\n",
      " 6 different\n",
      "  stack unlabeled\n",
      "7th iteration\n",
      "  training\n",
      "  accuracy\n",
      "  Accuracy 0.8164759725400458\n",
      "  Accuracy 0.39855072463768115\n",
      " 1 different\n",
      "  stack unlabeled\n",
      "8th iteration\n",
      "  training\n",
      "  accuracy\n",
      "  Accuracy 0.8121281464530893\n",
      "  Accuracy 0.39855072463768115\n",
      " 4 different\n",
      "  stack unlabeled\n",
      "9th iteration\n",
      "  training\n",
      "  accuracy\n",
      "  Accuracy 0.8118993135011442\n",
      "  Accuracy 0.39855072463768115\n",
      " 1 different\n",
      "  stack unlabeled\n",
      "9th iteration\n"
     ]
    }
   ],
   "source": [
    "train_acc_all, valid_acc_all, model_all = semi_all(speech, unlabeled.X)"
   ]
  },
  {
   "cell_type": "code",
   "execution_count": 6,
   "metadata": {},
   "outputs": [
    {
     "data": {
      "image/png": "[encoded data removed]",
      "text/plain": [
       "<Figure size 432x288 with 1 Axes>"
      ]
     },
     "metadata": {
      "needs_background": "light"
     },
     "output_type": "display_data"
    }
   ],
   "source": [
    "plt.plot(train_acc_all, label='training acc')\n",
    "plt.plot(valid_acc_all, label='validation acc')\n",
    "plt.legend()\n",
    "plt.savefig('image/semi_all_10iter')\n",
    "plt.show()"
   ]
  },
  {
   "cell_type": "code",
   "execution_count": 8,
   "metadata": {},
   "outputs": [
    {
     "name": "stdout",
     "output_type": "stream",
     "text": [
      "Writing pred file\n"
     ]
    }
   ],
   "source": [
    "print(\"Writing pred file\")\n",
    "hwutil.write_pred_kaggle_file(unlabeled, model_all, \"data/speech-pred.csv\", speech)"
   ]
  },
  {
   "cell_type": "markdown",
   "metadata": {},
   "source": [
    "## include all prediction and stop as prediction change smaller than 20 or reached max_iter"
   ]
  },
  {
   "cell_type": "code",
   "execution_count": 5,
   "metadata": {},
   "outputs": [],
   "source": [
    "def semi_diff(data, unlabelx, max_iter=20):\n",
    "    train_x = data.trainX\n",
    "    train_y = data.trainy\n",
    "    N = unlabelx.shape[0]\n",
    "#     ind = np.random.choice(np.arange(N), size=N//5, replace=False)\n",
    "#     subx = unlabelx[ind]\n",
    "    train_acc = np.zeros(max_iter)\n",
    "    valid_acc = np.zeros(max_iter)\n",
    "    model = LogisticRegression(solver='liblinear')\n",
    "    prev = np.zeros(N)\n",
    "    \n",
    "    for i in range(max_iter):\n",
    "        print(f'{i}th iteration')\n",
    "        print('  training')\n",
    "        model.fit(train_x, train_y)\n",
    "        print('  accuracy')\n",
    "        train_acc[i] = classify.evaluate(speech.trainX, speech.trainy, model)\n",
    "        valid_acc[i] = classify.evaluate(speech.devX, speech.devy, model)\n",
    "        pred = model.predict(unlabelx)\n",
    "        dif = np.sum(pred != prev)\n",
    "        if dif < 100:\n",
    "            break\n",
    "        prev = pred\n",
    "        print(f' {dif} different')\n",
    "        print('  stack unlabeled')\n",
    "        train_x = sparse.vstack([train_x, unlabelx])\n",
    "        train_y = np.concatenate([train_y, pred])\n",
    "        if not i % 9:\n",
    "            print(f'{i}th iteration')\n",
    "    \n",
    "    return train_acc, valid_acc, model"
   ]
  },
  {
   "cell_type": "code",
   "execution_count": 10,
   "metadata": {},
   "outputs": [
    {
     "name": "stdout",
     "output_type": "stream",
     "text": [
      "0th iteration\n",
      "  training\n",
      "  accuracy\n",
      "  Accuracy 0.9832951945080092\n",
      "  Accuracy 0.4082125603864734\n",
      " 43316 different\n",
      "  stack unlabeled\n",
      "0th iteration\n",
      "1th iteration\n",
      "  training\n",
      "  accuracy\n",
      "  Accuracy 0.8862700228832951\n",
      "  Accuracy 0.41304347826086957\n",
      " 1236 different\n",
      "  stack unlabeled\n",
      "2th iteration\n",
      "  training\n",
      "  accuracy\n",
      "  Accuracy 0.85720823798627\n",
      "  Accuracy 0.41545893719806765\n"
     ]
    }
   ],
   "source": [
    "train_acc_diff, valid_acc_diff, model_diff = semi_diff(speech, unlabeled.X)"
   ]
  },
  {
   "cell_type": "code",
   "execution_count": 11,
   "metadata": {},
   "outputs": [
    {
     "data": {
      "image/png": "[encoded data removed]",
      "text/plain": [
       "<Figure size 432x288 with 1 Axes>"
      ]
     },
     "metadata": {
      "needs_background": "light"
     },
     "output_type": "display_data"
    }
   ],
   "source": [
    "plt.plot(train_acc_diff[train_acc_diff>0], label='training acc')\n",
    "plt.plot(valid_acc_diff[valid_acc_diff>0], label='validation acc')\n",
    "plt.legend()\n",
    "plt.savefig('image/semi_all_100_diff')\n",
    "plt.show()"
   ]
  },
  {
   "cell_type": "code",
   "execution_count": 18,
   "metadata": {},
   "outputs": [
    {
     "name": "stdout",
     "output_type": "stream",
     "text": [
      "Writing pred file\n"
     ]
    }
   ],
   "source": [
    "print(\"Writing pred file\")\n",
    "hwutil.write_pred_kaggle_file(unlabeled, model_diff, \"data/speech-pred.csv\", speech)"
   ]
  },
  {
   "cell_type": "markdown",
   "metadata": {},
   "source": [
    "## include most confident prediction as confident score with prediction change stopping criteria"
   ]
  },
  {
   "cell_type": "code",
   "execution_count": 7,
   "metadata": {},
   "outputs": [],
   "source": [
    "def semi_confid(data, unlabelx, confid_level=5, stop_diff=100, max_iter=25):\n",
    "    train_x = data.trainX\n",
    "    train_y = data.trainy\n",
    "    N = unlabelx.shape[0]\n",
    "#     ind = np.random.choice(np.arange(N), size=N//5, replace=False)\n",
    "#     subx = unlabelx[ind]\n",
    "    train_acc = np.zeros(max_iter)\n",
    "    valid_acc = np.zeros(max_iter)\n",
    "    num_diff = np.zeros(max_iter)\n",
    "    model = LogisticRegression(solver='liblinear')\n",
    "    prev = np.zeros(N)\n",
    "    \n",
    "    for i in range(max_iter):\n",
    "        print(f'{i}th iteration')\n",
    "        print('  training')\n",
    "        model.fit(train_x, train_y)\n",
    "        print('  accuracy')\n",
    "        train_acc[i] = classify.evaluate(speech.trainX, speech.trainy, model)\n",
    "        valid_acc[i] = classify.evaluate(speech.devX, speech.devy, model)\n",
    "        pred = model.predict(unlabelx)\n",
    "        dif = np.sum(pred != prev)\n",
    "        num_diff[i] = dif\n",
    "        if dif < stop_diff:\n",
    "            break\n",
    "        prev = pred\n",
    "        print(f' {dif} different')\n",
    "        print('  stack unlabeled')\n",
    "        confid = np.sum(model.decision_function(unlabelx) > 0,axis=1)\n",
    "        ind = np.where((0 < confid) & (confid <= confid_level))\n",
    "        print(confid)\n",
    "        train_x = sparse.vstack([train_x, unlabelx[ind]])\n",
    "        train_y = np.concatenate([train_y, pred[ind]])\n",
    "        if not i % 9:\n",
    "            print(f'{i}th iteration')\n",
    "    \n",
    "    return num_diff, train_acc, valid_acc, model"
   ]
  },
  {
   "cell_type": "code",
   "execution_count": 8,
   "metadata": {},
   "outputs": [
    {
     "name": "stdout",
     "output_type": "stream",
     "text": [
      "0th iteration\n",
      "  training\n",
      "  accuracy\n",
      "  Accuracy 0.9832951945080092\n",
      "  Accuracy 0.4082125603864734\n",
      " 43316 different\n",
      "  stack unlabeled\n",
      "[1 0 1 ... 1 0 0]\n",
      "0th iteration\n",
      "1th iteration\n",
      "  training\n",
      "  accuracy\n",
      "  Accuracy 0.922654462242563\n",
      "  Accuracy 0.4033816425120773\n",
      " 5699 different\n",
      "  stack unlabeled\n",
      "[1 1 1 ... 1 1 1]\n",
      "2th iteration\n",
      "  training\n",
      "  accuracy\n",
      "  Accuracy 0.8652173913043478\n",
      "  Accuracy 0.40096618357487923\n",
      " 2600 different\n",
      "  stack unlabeled\n",
      "[1 1 1 ... 1 1 1]\n",
      "3th iteration\n",
      "  training\n",
      "  accuracy\n",
      "  Accuracy 0.8265446224256293\n",
      "  Accuracy 0.391304347826087\n",
      " 1385 different\n",
      "  stack unlabeled\n",
      "[1 1 1 ... 1 1 1]\n",
      "4th iteration\n",
      "  training\n",
      "  accuracy\n",
      "  Accuracy 0.8020594965675057\n",
      "  Accuracy 0.39371980676328505\n",
      " 864 different\n",
      "  stack unlabeled\n",
      "[1 1 1 ... 1 1 1]\n",
      "5th iteration\n",
      "  training\n",
      "  accuracy\n",
      "  Accuracy 0.782837528604119\n",
      "  Accuracy 0.391304347826087\n",
      " 549 different\n",
      "  stack unlabeled\n",
      "[1 1 1 ... 1 1 1]\n",
      "6th iteration\n",
      "  training\n",
      "  accuracy\n",
      "  Accuracy 0.7679633867276888\n",
      "  Accuracy 0.391304347826087\n",
      " 417 different\n",
      "  stack unlabeled\n",
      "[1 1 1 ... 1 1 1]\n",
      "7th iteration\n",
      "  training\n",
      "  accuracy\n",
      "  Accuracy 0.7556064073226545\n",
      "  Accuracy 0.3888888888888889\n",
      " 300 different\n",
      "  stack unlabeled\n",
      "[1 1 1 ... 1 1 1]\n",
      "8th iteration\n",
      "  training\n",
      "  accuracy\n",
      "  Accuracy 0.7448512585812357\n",
      "  Accuracy 0.38164251207729466\n",
      " 285 different\n",
      "  stack unlabeled\n",
      "[1 1 1 ... 1 1 1]\n",
      "9th iteration\n",
      "  training\n",
      "  accuracy\n",
      "  Accuracy 0.7345537757437071\n",
      "  Accuracy 0.38405797101449274\n",
      " 206 different\n",
      "  stack unlabeled\n",
      "[1 1 1 ... 1 1 1]\n",
      "9th iteration\n",
      "10th iteration\n",
      "  training\n",
      "  accuracy\n",
      "  Accuracy 0.72837528604119\n",
      "  Accuracy 0.3864734299516908\n",
      " 178 different\n",
      "  stack unlabeled\n",
      "[1 1 1 ... 1 1 1]\n",
      "11th iteration\n",
      "  training\n",
      "  accuracy\n",
      "  Accuracy 0.7212814645308925\n",
      "  Accuracy 0.3864734299516908\n",
      " 147 different\n",
      "  stack unlabeled\n",
      "[1 1 1 ... 1 1 1]\n",
      "12th iteration\n",
      "  training\n",
      "  accuracy\n",
      "  Accuracy 0.717162471395881\n",
      "  Accuracy 0.3888888888888889\n",
      " 160 different\n",
      "  stack unlabeled\n",
      "[1 1 1 ... 1 1 1]\n",
      "13th iteration\n",
      "  training\n",
      "  accuracy\n",
      "  Accuracy 0.7139588100686499\n",
      "  Accuracy 0.3888888888888889\n",
      " 120 different\n",
      "  stack unlabeled\n",
      "[1 1 1 ... 1 1 1]\n",
      "14th iteration\n",
      "  training\n",
      "  accuracy\n",
      "  Accuracy 0.7093821510297483\n",
      "  Accuracy 0.3888888888888889\n",
      " 107 different\n",
      "  stack unlabeled\n",
      "[1 1 1 ... 1 1 1]\n",
      "15th iteration\n",
      "  training\n",
      "  accuracy\n",
      "  Accuracy 0.7073226544622425\n",
      "  Accuracy 0.391304347826087\n",
      " 112 different\n",
      "  stack unlabeled\n",
      "[1 1 1 ... 1 1 1]\n",
      "16th iteration\n",
      "  training\n",
      "  accuracy\n",
      "  Accuracy 0.7036613272311213\n",
      "  Accuracy 0.391304347826087\n",
      " 91 different\n",
      "  stack unlabeled\n",
      "[1 1 1 ... 1 1 1]\n",
      "17th iteration\n",
      "  training\n",
      "  accuracy\n",
      "  Accuracy 0.7006864988558352\n",
      "  Accuracy 0.3864734299516908\n",
      " 87 different\n",
      "  stack unlabeled\n",
      "[1 1 1 ... 1 1 1]\n",
      "18th iteration\n",
      "  training\n",
      "  accuracy\n",
      "  Accuracy 0.6988558352402746\n",
      "  Accuracy 0.3888888888888889\n",
      " 73 different\n",
      "  stack unlabeled\n",
      "[1 1 1 ... 1 1 1]\n",
      "18th iteration\n",
      "19th iteration\n",
      "  training\n",
      "  accuracy\n",
      "  Accuracy 0.6979405034324943\n",
      "  Accuracy 0.3888888888888889\n",
      " 70 different\n",
      "  stack unlabeled\n",
      "[1 1 1 ... 1 1 1]\n",
      "20th iteration\n",
      "  training\n",
      "  accuracy\n",
      "  Accuracy 0.6977116704805492\n",
      "  Accuracy 0.3888888888888889\n",
      " 54 different\n",
      "  stack unlabeled\n",
      "[1 1 1 ... 1 1 1]\n",
      "21th iteration\n",
      "  training\n",
      "  accuracy\n",
      "  Accuracy 0.6963386727688787\n",
      "  Accuracy 0.38405797101449274\n",
      " 57 different\n",
      "  stack unlabeled\n",
      "[1 1 1 ... 1 1 1]\n",
      "22th iteration\n",
      "  training\n",
      "  accuracy\n",
      "  Accuracy 0.6954233409610984\n",
      "  Accuracy 0.38405797101449274\n",
      " 54 different\n",
      "  stack unlabeled\n",
      "[1 1 1 ... 1 1 1]\n",
      "23th iteration\n",
      "  training\n",
      "  accuracy\n",
      "  Accuracy 0.6940503432494279\n",
      "  Accuracy 0.3864734299516908\n",
      " 55 different\n",
      "  stack unlabeled\n",
      "[1 1 1 ... 1 1 1]\n",
      "24th iteration\n",
      "  training\n",
      "  accuracy\n",
      "  Accuracy 0.6917620137299771\n",
      "  Accuracy 0.3864734299516908\n",
      " 53 different\n",
      "  stack unlabeled\n",
      "[1 1 1 ... 1 1 1]\n"
     ]
    }
   ],
   "source": [
    "diff_confid, train_acc_confid, valid_acc_confid, model_confid = semi_confid(speech, unlabeled.X, stop_diff=20)"
   ]
  },
  {
   "cell_type": "code",
   "execution_count": 9,
   "metadata": {},
   "outputs": [
    {
     "data": {
      "image/png": "[encoded data removed]",
      "text/plain": [
       "<Figure size 432x288 with 1 Axes>"
      ]
     },
     "metadata": {
      "needs_background": "light"
     },
     "output_type": "display_data"
    }
   ],
   "source": [
    "plt.plot(train_acc_confid[train_acc_confid>0], label='training acc')\n",
    "plt.plot(valid_acc_confid[valid_acc_confid>0], label='validation acc')\n",
    "plt.legend()\n",
    "plt.savefig('image/semi_confid_5_25iter')\n",
    "plt.show()"
   ]
  },
  {
   "cell_type": "code",
   "execution_count": 18,
   "metadata": {},
   "outputs": [
    {
     "data": {
      "text/plain": [
       "[<matplotlib.lines.Line2D at 0x1afbd578bc8>]"
      ]
     },
     "execution_count": 18,
     "metadata": {},
     "output_type": "execute_result"
    },
    {
     "data": {
      "image/png": "[encoded data removed]",
      "text/plain": [
       "<Figure size 432x288 with 1 Axes>"
      ]
     },
     "metadata": {
      "needs_background": "light"
     },
     "output_type": "display_data"
    }
   ],
   "source": [
    "plt.plot(diff_confid[diff_confid>0])"
   ]
  },
  {
   "cell_type": "code",
   "execution_count": 37,
   "metadata": {},
   "outputs": [
    {
     "data": {
      "text/plain": [
       "(43342, 19)"
      ]
     },
     "execution_count": 37,
     "metadata": {},
     "output_type": "execute_result"
    }
   ],
   "source": [
    "model.decision_function(unlabeled.X).shape"
   ]
  },
  {
   "cell_type": "code",
   "execution_count": 15,
   "metadata": {},
   "outputs": [
    {
     "name": "stdout",
     "output_type": "stream",
     "text": [
      "Writing pred file\n"
     ]
    }
   ],
   "source": [
    "print(\"Writing pred file\")\n",
    "hwutil.write_pred_kaggle_file(unlabeled, model_confid, \"data/speech-pred.csv\", speech)"
   ]
  },
  {
   "cell_type": "code",
   "execution_count": 16,
   "metadata": {
    "scrolled": true
   },
   "outputs": [
    {
     "name": "stdout",
     "output_type": "stream",
     "text": [
      "0th iteration\n",
      "  training\n",
      "  accuracy\n",
      " 43316 different\n",
      "  stack unlabeled\n",
      "[1 0 1 ... 1 0 0]\n",
      "0th iteration\n",
      "1th iteration\n",
      "  training\n",
      "  accuracy\n",
      " 5720 different\n",
      "  stack unlabeled\n",
      "[1 1 1 ... 1 1 1]\n",
      "2th iteration\n",
      "  training\n",
      "  accuracy\n",
      " 2606 different\n",
      "  stack unlabeled\n",
      "[1 1 1 ... 1 1 1]\n",
      "3th iteration\n",
      "  training\n",
      "  accuracy\n",
      " 1378 different\n",
      "  stack unlabeled\n",
      "[1 1 1 ... 1 1 1]\n",
      "4th iteration\n",
      "  training\n",
      "  accuracy\n",
      " 838 different\n",
      "  stack unlabeled\n",
      "[1 1 1 ... 1 1 1]\n",
      "5th iteration\n",
      "  training\n",
      "  accuracy\n",
      " 559 different\n",
      "  stack unlabeled\n",
      "[1 1 1 ... 1 1 1]\n",
      "6th iteration\n",
      "  training\n",
      "  accuracy\n",
      " 399 different\n",
      "  stack unlabeled\n",
      "[1 1 1 ... 1 1 1]\n",
      "7th iteration\n",
      "  training\n",
      "  accuracy\n",
      " 300 different\n",
      "  stack unlabeled\n",
      "[1 1 1 ... 1 1 1]\n",
      "8th iteration\n",
      "  training\n",
      "  accuracy\n",
      " 251 different\n",
      "  stack unlabeled\n",
      "[1 1 1 ... 1 1 1]\n",
      "9th iteration\n",
      "  training\n",
      "  accuracy\n",
      " 198 different\n",
      "  stack unlabeled\n",
      "[1 1 1 ... 1 1 1]\n",
      "9th iteration\n",
      "10th iteration\n",
      "  training\n",
      "  accuracy\n",
      " 194 different\n",
      "  stack unlabeled\n",
      "[1 1 1 ... 1 1 1]\n",
      "11th iteration\n",
      "  training\n",
      "  accuracy\n",
      " 159 different\n",
      "  stack unlabeled\n",
      "[1 1 1 ... 1 1 1]\n",
      "12th iteration\n",
      "  training\n",
      "  accuracy\n",
      " 141 different\n",
      "  stack unlabeled\n",
      "[1 1 1 ... 1 1 1]\n",
      "13th iteration\n",
      "  training\n",
      "  accuracy\n",
      " 122 different\n",
      "  stack unlabeled\n",
      "[1 1 1 ... 1 1 1]\n",
      "14th iteration\n",
      "  training\n",
      "  accuracy\n",
      " 106 different\n",
      "  stack unlabeled\n",
      "[1 1 1 ... 1 1 1]\n",
      "15th iteration\n",
      "  training\n",
      "  accuracy\n",
      " 104 different\n",
      "  stack unlabeled\n",
      "[1 1 1 ... 1 1 1]\n",
      "16th iteration\n",
      "  training\n",
      "  accuracy\n"
     ]
    }
   ],
   "source": [
    "diff_confid3, acc_confid3, model_confid3 = semi_confid(speech, unlabeled.X, confid_level=3)"
   ]
  },
  {
   "cell_type": "code",
   "execution_count": 17,
   "metadata": {},
   "outputs": [
    {
     "data": {
      "text/plain": [
       "[<matplotlib.lines.Line2D at 0x2ad379c8588>]"
      ]
     },
     "execution_count": 17,
     "metadata": {},
     "output_type": "execute_result"
    },
    {
     "data": {
      "image/png": "[encoded data removed]",
      "text/plain": [
       "<Figure size 432x288 with 1 Axes>"
      ]
     },
     "metadata": {
      "needs_background": "light"
     },
     "output_type": "display_data"
    }
   ],
   "source": [
    "plt.plot(acc_confid3[acc_confid3>0])"
   ]
  },
  {
   "cell_type": "code",
   "execution_count": 18,
   "metadata": {},
   "outputs": [
    {
     "name": "stdout",
     "output_type": "stream",
     "text": [
      "Writing pred file\n"
     ]
    }
   ],
   "source": [
    "print(\"Writing pred file\")\n",
    "hwutil.write_pred_kaggle_file(unlabeled, model_confid, \"data/speech-pred.csv\", speech)"
   ]
  },
  {
   "cell_type": "code",
   "execution_count": 4,
   "metadata": {},
   "outputs": [],
   "source": [
    "def semi_confid2(data, unlabelx, stop_diff=100, max_iter=25):\n",
    "    train_x = data.trainX\n",
    "    train_y = data.trainy\n",
    "    N = unlabelx.shape[0]\n",
    "#     ind = np.random.choice(np.arange(N), size=N//5, replace=False)\n",
    "#     subx = unlabelx[ind]\n",
    "    acc = np.zeros(max_iter)\n",
    "    num_diff = np.zeros(max_iter)\n",
    "    model = LogisticRegression(solver='liblinear')\n",
    "    prev = np.zeros(N)\n",
    "    \n",
    "    for i in range(max_iter):\n",
    "        print(f'{i}th iteration')\n",
    "        print('  training')\n",
    "        model.fit(train_x, train_y)\n",
    "        print('  accuracy')\n",
    "        acc[i] = metrics.accuracy_score(data.devy, model.predict(data.devX))\n",
    "        pred = model.predict(unlabelx)\n",
    "        dif = np.sum(pred != prev)\n",
    "        num_diff[i] = dif\n",
    "        if dif < stop_diff:\n",
    "            break\n",
    "        prev = pred\n",
    "        print(f' {dif} different')\n",
    "        print('  stack unlabeled')\n",
    "        confid = np.sum(model.predict_proba(unlabelx) > 0.5, axis=1)\n",
    "        ind = np.where(confid==1)\n",
    "        print('  ', len(confid), 'added')\n",
    "        train_x = sparse.vstack([train_x, unlabelx[ind]])\n",
    "        train_y = np.concatenate([train_y, pred[ind]])\n",
    "        if not i % 9:\n",
    "            print(f'{i}th iteration')\n",
    "    \n",
    "    return num_diff, acc, model"
   ]
  },
  {
   "cell_type": "code",
   "execution_count": null,
   "metadata": {},
   "outputs": [
    {
     "name": "stdout",
     "output_type": "stream",
     "text": [
      "0th iteration\n",
      "  training\n",
      "  accuracy\n",
      " 43316 different\n",
      "  stack unlabeled\n",
      "   43342 added\n",
      "0th iteration\n",
      "1th iteration\n",
      "  training\n",
      "  accuracy\n",
      " 6406 different\n",
      "  stack unlabeled\n",
      "   43342 added\n",
      "2th iteration\n",
      "  training\n",
      "  accuracy\n",
      " 2594 different\n",
      "  stack unlabeled\n",
      "   43342 added\n",
      "3th iteration\n",
      "  training\n"
     ]
    }
   ],
   "source": [
    "diff_confid_2, acc_confid_2, model_confid_2 = semi_confid2(speech, unlabeled.X)"
   ]
  },
  {
   "cell_type": "code",
   "execution_count": 5,
   "metadata": {},
   "outputs": [
    {
     "name": "stdout",
     "output_type": "stream",
     "text": [
      "[10  3  3 ...  3  3 11]\n"
     ]
    },
    {
     "data": {
      "text/plain": [
       "array([[7.06419289e-03, 2.91268554e-03, 8.30796800e-04, ...,\n",
       "        4.99065218e-03, 8.21260928e-04, 2.25863093e-02],\n",
       "       [1.14746859e-01, 1.19548906e-02, 3.79678155e-04, ...,\n",
       "        2.95461788e-03, 4.40363267e-03, 3.40026109e-03],\n",
       "       [5.75067139e-04, 4.18990081e-04, 2.29340969e-03, ...,\n",
       "        2.92749053e-04, 1.78221583e-03, 2.57024069e-03],\n",
       "       ...,\n",
       "       [9.31283059e-03, 8.37221565e-03, 1.33818463e-03, ...,\n",
       "        2.12743747e-02, 2.26037353e-02, 7.41689387e-02],\n",
       "       [2.23031045e-04, 1.06309738e-03, 1.00840673e-02, ...,\n",
       "        6.64920391e-04, 2.49113263e-03, 5.45834272e-03],\n",
       "       [3.31691278e-05, 7.45167482e-03, 2.14959049e-03, ...,\n",
       "        6.71901164e-03, 5.16502008e-03, 3.78823202e-03]])"
      ]
     },
     "execution_count": 5,
     "metadata": {},
     "output_type": "execute_result"
    }
   ],
   "source": [
    "cls = LogisticRegression(solver='liblinear')\n",
    "cls.fit(speech.trainX, speech.trainy)\n",
    "print(cls.predict(unlabeled.X))"
   ]
  },
  {
   "cell_type": "code",
   "execution_count": 12,
   "metadata": {},
   "outputs": [
    {
     "data": {
      "text/plain": [
       "array([-7.43638442, -7.75318393, -6.05131352,  0.34278717, -5.50043402,\n",
       "       -4.92761681, -5.1828323 , -5.80309628, -8.90144539, -6.26736315,\n",
       "       -2.63021763, -3.16859177, -8.17684396, -8.19786341, -0.84184014,\n",
       "       -8.61420999, -8.11184477, -6.30402047, -5.93706935])"
      ]
     },
     "execution_count": 12,
     "metadata": {},
     "output_type": "execute_result"
    }
   ],
   "source": [
    "cls.decision_function(unlabeled.X)[2]"
   ]
  },
  {
   "cell_type": "markdown",
   "metadata": {},
   "source": [
    "## Extract feature, set threshold on how many"
   ]
  },
  {
   "cell_type": "code",
   "execution_count": null,
   "metadata": {},
   "outputs": [],
   "source": []
  },
  {
   "cell_type": "markdown",
   "metadata": {},
   "source": [
    "## TF-IDF Weighting"
   ]
  },
  {
   "cell_type": "code",
   "execution_count": 11,
   "metadata": {},
   "outputs": [],
   "source": [
    "from sklearn.feature_extraction.text import TfidfVectorizer"
   ]
  },
  {
   "cell_type": "code",
   "execution_count": 12,
   "metadata": {},
   "outputs": [],
   "source": [
    "speech.tfidf_vect = TfidfVectorizer(min_df=12, stop_words='english')\n",
    "speech.tfidf_trainX = speech.tfidf_vect.fit_transform(speech.train_data)\n",
    "speech.tfidf_devX = speech.tfidf_vect.transform(speech.dev_data)"
   ]
  },
  {
   "cell_type": "code",
   "execution_count": 13,
   "metadata": {},
   "outputs": [],
   "source": [
    "unlabeled.tfidf_X = speech.tfidf_vect.transform(unlabeled.data)"
   ]
  },
  {
   "cell_type": "code",
   "execution_count": 14,
   "metadata": {},
   "outputs": [],
   "source": [
    "def semi_all_tfidf(data, unlabelx, loop=10):\n",
    "    train_x = data.tfidf_trainX\n",
    "    train_y = data.trainy\n",
    "    N = unlabelx.shape[0]\n",
    "#     ind = np.random.choice(np.arange(N), size=N//5, replace=False)\n",
    "#     subx = unlabelx[ind]\n",
    "    train_acc = np.zeros(loop)\n",
    "    valid_acc = np.zeros(loop)\n",
    "    model = LogisticRegression(solver='liblinear')\n",
    "    prev = np.zeros(N)\n",
    "    \n",
    "    for i in range(loop):\n",
    "        print(f'{i}th iteration')\n",
    "        print('  training')\n",
    "        model.fit(train_x, train_y)\n",
    "        print('  accuracy')\n",
    "        train_acc[i] = classify.evaluate(speech.tfidf_trainX, speech.trainy, model)\n",
    "        valid_acc[i] = classify.evaluate(speech.tfidf_devX, speech.devy, model)\n",
    "        pred = model.predict(unlabelx)\n",
    "        dif = np.sum(pred != prev)\n",
    "        prev = pred\n",
    "        print(f' {dif} different')\n",
    "        print('  stack unlabeled')\n",
    "        train_x = sparse.vstack([train_x, unlabelx])\n",
    "        train_y = np.concatenate([train_y, pred])\n",
    "        if not i % 9:\n",
    "            print(f'{i}th iteration')\n",
    "    \n",
    "    return train_acc, valid_acc,  model"
   ]
  },
  {
   "cell_type": "code",
   "execution_count": 17,
   "metadata": {},
   "outputs": [
    {
     "name": "stdout",
     "output_type": "stream",
     "text": [
      "0th iteration\n",
      "  training\n",
      "  accuracy\n",
      "  Accuracy 0.4812356979405034\n",
      "  Accuracy 0.36231884057971014\n",
      " 43342 different\n",
      "  stack unlabeled\n",
      "0th iteration\n",
      "1th iteration\n",
      "  training\n",
      "  accuracy\n",
      "  Accuracy 0.43249427917620137\n",
      "  Accuracy 0.34541062801932365\n",
      " 2950 different\n",
      "  stack unlabeled\n",
      "2th iteration\n",
      "  training\n",
      "  accuracy\n",
      "  Accuracy 0.4260869565217391\n",
      "  Accuracy 0.34541062801932365\n",
      " 528 different\n",
      "  stack unlabeled\n",
      "3th iteration\n",
      "  training\n",
      "  accuracy\n",
      "  Accuracy 0.422883295194508\n",
      "  Accuracy 0.34541062801932365\n",
      " 229 different\n",
      "  stack unlabeled\n",
      "4th iteration\n",
      "  training\n",
      "  accuracy\n",
      "  Accuracy 0.41990846681922195\n",
      "  Accuracy 0.34541062801932365\n",
      " 131 different\n",
      "  stack unlabeled\n",
      "5th iteration\n",
      "  training\n",
      "  accuracy\n",
      "  Accuracy 0.4183066361556064\n",
      "  Accuracy 0.34299516908212563\n",
      " 87 different\n",
      "  stack unlabeled\n",
      "6th iteration\n",
      "  training\n",
      "  accuracy\n",
      "  Accuracy 0.41807780320366134\n",
      "  Accuracy 0.34299516908212563\n",
      " 60 different\n",
      "  stack unlabeled\n",
      "7th iteration\n",
      "  training\n",
      "  accuracy\n",
      "  Accuracy 0.41762013729977115\n",
      "  Accuracy 0.34299516908212563\n",
      " 40 different\n",
      "  stack unlabeled\n",
      "8th iteration\n",
      "  training\n",
      "  accuracy\n",
      "  Accuracy 0.41716247139588103\n",
      "  Accuracy 0.34299516908212563\n",
      " 39 different\n",
      "  stack unlabeled\n",
      "9th iteration\n",
      "  training\n",
      "  accuracy\n",
      "  Accuracy 0.41693363844393594\n",
      "  Accuracy 0.34299516908212563\n",
      " 29 different\n",
      "  stack unlabeled\n",
      "9th iteration\n"
     ]
    }
   ],
   "source": [
    "train_acc_tfidf_all, valid_acc_tfidf_all, model_tfidf_all = semi_all_tfidf(speech, unlabeled.tfidf_X)"
   ]
  },
  {
   "cell_type": "code",
   "execution_count": 35,
   "metadata": {},
   "outputs": [
    {
     "data": {
      "image/png": "[encoded data removed]",
      "text/plain": [
       "<Figure size 432x288 with 1 Axes>"
      ]
     },
     "metadata": {
      "needs_background": "light"
     },
     "output_type": "display_data"
    }
   ],
   "source": [
    "plt.plot(train_acc_tfidf_all, label='training accuracy')\n",
    "plt.plot(valid_acc_tfidf_all, label='validation accuracy')\n",
    "plt.legend()\n",
    "plt.savefig('image/semi_all_tfidf')\n",
    "plt.show()"
   ]
  },
  {
   "cell_type": "code",
   "execution_count": 33,
   "metadata": {},
   "outputs": [],
   "source": [
    "from sklearn.decomposition import TruncatedSVD\n",
    "\n",
    "def semi_all_svd(data, unlabelx, loop=10):\n",
    "    train_x = data.tfidf_trainX.toarray()\n",
    "    train_y = data.trainy\n",
    "    unlabelx = unlabelx.toarray()\n",
    "    N = unlabelx.shape[0]\n",
    "#     ind = np.random.choice(np.arange(N), size=N//5, replace=False)\n",
    "#     subx = unlabelx[ind]\n",
    "    train_acc = np.zeros(loop)\n",
    "    valid_acc = np.zeros(loop)\n",
    "    svd = TruncatedSVD(n_components=10)\n",
    "    svd.fit(train_x)\n",
    "    model = LogisticRegression(solver='liblinear')\n",
    "    prev = np.zeros(N)\n",
    "    \n",
    "    for i in range(loop):\n",
    "        print(f'{i}th iteration')\n",
    "        print('  training')\n",
    "        model.fit(np.concatenate([train_x,svd.transform(train_x)], axis=1), train_y)\n",
    "        print('  accuracy')\n",
    "        train_acc[i] = classify.evaluate(np.concatenate([speech.tfidf_trainX.toarray(), svd.transform(speech.tfidf_trainX)], axis=1),\n",
    "                                         speech.trainy, model)\n",
    "        valid_acc[i] = classify.evaluate(np.concatenate([speech.tfidf_devX.toarray(), svd.transform(speech.tfidf_devX)], axis=1),\n",
    "                                         speech.devy, model)\n",
    "        pred = model.predict(np.concatenate([unlabelx, svd.transform(unlabelx)], axis=1))\n",
    "        dif = np.sum(pred != prev)\n",
    "        prev = pred\n",
    "        print(f' {dif} different')\n",
    "        print('  stack unlabeled')\n",
    "        train_x =np.concatenate([train_x, unlabelx],axis=0)\n",
    "        train_y = np.concatenate([train_y, pred])\n",
    "        if not i % 9:\n",
    "            print(f'{i}th iteration')\n",
    "    \n",
    "    return train_acc, valid_acc,  model"
   ]
  },
  {
   "cell_type": "code",
   "execution_count": 34,
   "metadata": {
    "scrolled": true
   },
   "outputs": [
    {
     "name": "stdout",
     "output_type": "stream",
     "text": [
      "0th iteration\n",
      "  training\n",
      "  accuracy\n",
      "  Accuracy 0.482837528604119\n",
      "  Accuracy 0.36231884057971014\n",
      " 43342 different\n",
      "  stack unlabeled\n",
      "0th iteration\n",
      "1th iteration\n",
      "  training\n",
      "  accuracy\n",
      "  Accuracy 0.43546910755148743\n",
      "  Accuracy 0.34299516908212563\n",
      " 2977 different\n",
      "  stack unlabeled\n",
      "2th iteration\n",
      "  training\n",
      "  accuracy\n",
      "  Accuracy 0.428604118993135\n",
      "  Accuracy 0.34782608695652173\n",
      " 562 different\n",
      "  stack unlabeled\n",
      "3th iteration\n",
      "  training\n",
      "  accuracy\n",
      "  Accuracy 0.4240274599542334\n",
      "  Accuracy 0.34541062801932365\n",
      " 264 different\n",
      "  stack unlabeled\n",
      "4th iteration\n",
      "  training\n",
      "  accuracy\n",
      "  Accuracy 0.42242562929061783\n",
      "  Accuracy 0.34541062801932365\n",
      " 133 different\n",
      "  stack unlabeled\n",
      "5th iteration\n",
      "  training\n",
      "  accuracy\n",
      "  Accuracy 0.4208237986270023\n",
      "  Accuracy 0.34541062801932365\n",
      " 92 different\n",
      "  stack unlabeled\n",
      "6th iteration\n",
      "  training\n",
      "  accuracy\n",
      "  Accuracy 0.42013729977116704\n",
      "  Accuracy 0.34541062801932365\n",
      " 66 different\n",
      "  stack unlabeled\n",
      "7th iteration\n",
      "  training\n",
      "  accuracy\n",
      "  Accuracy 0.41922196796338673\n",
      "  Accuracy 0.34541062801932365\n",
      " 47 different\n",
      "  stack unlabeled\n",
      "8th iteration\n",
      "  training\n",
      "  accuracy\n",
      "  Accuracy 0.41853546910755146\n",
      "  Accuracy 0.34541062801932365\n",
      " 38 different\n",
      "  stack unlabeled\n",
      "9th iteration\n",
      "  training\n",
      "  accuracy\n",
      "  Accuracy 0.41807780320366134\n",
      "  Accuracy 0.34541062801932365\n",
      " 27 different\n",
      "  stack unlabeled\n",
      "9th iteration\n"
     ]
    }
   ],
   "source": [
    "result = semi_all_svd(speech, unlabeled.tfidf_X)"
   ]
  },
  {
   "cell_type": "code",
   "execution_count": 37,
   "metadata": {},
   "outputs": [
    {
     "data": {
      "image/png": "[encoded data removed]",
      "text/plain": [
       "<Figure size 432x288 with 1 Axes>"
      ]
     },
     "metadata": {
      "needs_background": "light"
     },
     "output_type": "display_data"
    }
   ],
   "source": [
    "plt.plot(result[0], label='training accuracy')\n",
    "plt.plot(result[1], label='validation accuracy')\n",
    "plt.legend()\n",
    "plt.savefig('image/semi_all_tfidfsvd')\n",
    "plt.show()"
   ]
  },
  {
   "cell_type": "code",
   "execution_count": null,
   "metadata": {},
   "outputs": [],
   "source": []
  }
 ],
 "metadata": {
  "kernelspec": {
   "display_name": "Python 3",
   "language": "python",
   "name": "python3"
  },
  "language_info": {
   "codemirror_mode": {
    "name": "ipython",
    "version": 3
   },
   "file_extension": ".py",
   "mimetype": "text/x-python",
   "name": "python",
   "nbconvert_exporter": "python",
   "pygments_lexer": "ipython3",
   "version": "3.7.6"
  }
 },
 "nbformat": 4,
 "nbformat_minor": 2
}
